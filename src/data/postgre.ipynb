{
 "cells": [
  {
   "cell_type": "code",
   "execution_count": null,
   "id": "949698a3",
   "metadata": {
    "vscode": {
     "languageId": "shellscript"
    }
   },
   "outputs": [],
   "source": [
    "docker compose pull\n",
    "docker compose up -d"
   ]
  },
  {
   "cell_type": "markdown",
   "id": "2d27d694",
   "metadata": {},
   "source": [
    "One time setup"
   ]
  },
  {
   "cell_type": "markdown",
   "id": "423e26c9",
   "metadata": {
    "vscode": {
     "languageId": "shellscript"
    }
   },
   "source": [
    "Option 1: Run inside the Docker container (recommended for your setup)\n",
    "\n",
    "Since your Postgres is running inside Docker (pgvector/pgvector), you can execute psql inside that container."
   ]
  },
  {
   "cell_type": "markdown",
   "id": "fcd26520",
   "metadata": {
    "vscode": {
     "languageId": "shellscript"
    }
   },
   "source": [
    "List containers:"
   ]
  },
  {
   "cell_type": "code",
   "execution_count": null,
   "id": "cc75826a",
   "metadata": {
    "vscode": {
     "languageId": "shellscript"
    }
   },
   "outputs": [],
   "source": [
    "docker ps"
   ]
  },
  {
   "cell_type": "markdown",
   "id": "f97d9bf5",
   "metadata": {
    "vscode": {
     "languageId": "shellscript"
    }
   },
   "source": [
    "Find the one named rag_pg (from your compose file), then run:"
   ]
  },
  {
   "cell_type": "code",
   "execution_count": null,
   "id": "adbbd038",
   "metadata": {
    "vscode": {
     "languageId": "shellscript"
    }
   },
   "outputs": [],
   "source": [
    "docker exec -it rag_pg psql -U postgres -d review_agent"
   ]
  },
  {
   "cell_type": "code",
   "execution_count": null,
   "id": "b11ef812",
   "metadata": {
    "vscode": {
     "languageId": "sql"
    }
   },
   "outputs": [],
   "source": [
    "-- Enable pgvector\n",
    "CREATE EXTENSION IF NOT EXISTS vector;\n",
    "\n",
    "-- Main table (normalized fields from your CSV)\n",
    "CREATE TABLE IF NOT EXISTS restaurants (\n",
    "  restaurant_id TEXT PRIMARY KEY,            -- hash of Page_URL or your own ID\n",
    "  name TEXT NOT NULL,\n",
    "  page_url TEXT UNIQUE NOT NULL,\n",
    "  star_rating NUMERIC(3,2),\n",
    "  review_count INTEGER,\n",
    "  categories TEXT[],                         -- '{韓国料理,居酒屋}'\n",
    "  tel_reservation TEXT,\n",
    "  tel TEXT,\n",
    "  address TEXT,\n",
    "  ward TEXT,\n",
    "  area_hint TEXT,\n",
    "  transportation TEXT,\n",
    "  budget_dinner_min INTEGER,\n",
    "  budget_dinner_max INTEGER,\n",
    "  budget_lunch_min INTEGER,\n",
    "  budget_lunch_max INTEGER,\n",
    "  payment_methods TEXT,\n",
    "  table_money TEXT,\n",
    "  seats INTEGER,\n",
    "  private_room BOOLEAN,\n",
    "  private_use BOOLEAN,\n",
    "  smoking TEXT,                              -- '禁煙'|'喫煙'|'分煙'|'加熱式のみ'|NULL\n",
    "  parking BOOLEAN,\n",
    "  space_facilities TEXT,\n",
    "  course TEXT,\n",
    "  drink TEXT,\n",
    "  dishes TEXT,\n",
    "  occasion TEXT,\n",
    "  location_tags TEXT,\n",
    "  service TEXT,\n",
    "  with_children BOOLEAN,\n",
    "  homepage TEXT,\n",
    "  opening_day DATE,\n",
    "  remarks TEXT,\n",
    "  first_reviewer TEXT,\n",
    "  retrieval_text_ja TEXT,                    -- concise text for embedding\n",
    "  updated_at TIMESTAMP DEFAULT now()\n",
    ");\n",
    "\n",
    "-- Vectors table\n",
    "CREATE TABLE IF NOT EXISTS restaurant_vectors (\n",
    "  restaurant_id TEXT PRIMARY KEY REFERENCES restaurants(restaurant_id) ON DELETE CASCADE,\n",
    "  embedding VECTOR(1536),                    -- adjust size to your embedding model\n",
    "  updated_at TIMESTAMP DEFAULT now()\n",
    ");\n",
    "\n",
    "-- Helpful indexes\n",
    "CREATE INDEX IF NOT EXISTS idx_restaurants_ward ON restaurants(ward);\n",
    "CREATE INDEX IF NOT EXISTS idx_restaurants_area ON restaurants(area_hint);\n",
    "CREATE INDEX IF NOT EXISTS idx_restaurants_review ON restaurants(review_count DESC);\n",
    "CREATE INDEX IF NOT EXISTS idx_restaurants_smoking ON restaurants(smoking);\n",
    "CREATE INDEX IF NOT EXISTS idx_restaurants_children ON restaurants(with_children);\n",
    "\n",
    "-- Vector index (IVFFLAT). After you load data, run ANALYZE for better lists choice.\n",
    "CREATE INDEX IF NOT EXISTS idx_restaurants_vec ON restaurant_vectors\n",
    "USING ivfflat (embedding vector_cosine_ops) WITH (lists = 100);\n",
    "\\q\n"
   ]
  },
  {
   "cell_type": "code",
   "execution_count": null,
   "id": "308f5c4f",
   "metadata": {
    "vscode": {
     "languageId": "shellscript"
    }
   },
   "outputs": [],
   "source": [
    "python src/data/main_load_embed_db.py"
   ]
  },
  {
   "cell_type": "markdown",
   "id": "2cb63b2c",
   "metadata": {
    "vscode": {
     "languageId": "sql"
    }
   },
   "source": [
    "🧨 Option B: Delete everything (including volume)\n",
    "\n",
    "If you want to remove all data and start like brand new Postgres:"
   ]
  },
  {
   "cell_type": "code",
   "execution_count": null,
   "id": "05d5890b",
   "metadata": {
    "vscode": {
     "languageId": "shellscript"
    }
   },
   "outputs": [],
   "source": [
    "docker compose down -v   # <- removes the data volume\n",
    "docker compose up -d     # <- recreates a fresh Postgres instance"
   ]
  }
 ],
 "metadata": {
  "language_info": {
   "name": "python"
  }
 },
 "nbformat": 4,
 "nbformat_minor": 5
}
