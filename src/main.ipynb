{
 "cells": [
  {
   "cell_type": "code",
   "execution_count": 1,
   "id": "b8cd3bef",
   "metadata": {},
   "outputs": [
    {
     "name": "stderr",
     "output_type": "stream",
     "text": [
      "INFO:agent:Creating agent\n",
      "INFO:agent:Memory created\n",
      "INFO:agent:Graph created\n"
     ]
    }
   ],
   "source": [
    "from dotenv import load_dotenv\n",
    "\n",
    "load_dotenv()  # This loads the .env file\n",
    "\n",
    "import os\n",
    "\n",
    "import importlib\n",
    "\n",
    "import agent\n",
    "import prompt\n",
    "\n",
    "importlib.reload(agent)\n",
    "importlib.reload(prompt)\n",
    "\n",
    "from agent import create_agent\n",
    "from prompt import build_restaurant_prompt\n",
    "\n",
    "\n",
    "graph = create_agent()\n",
    "\n",
    "graph.get_graph().draw_mermaid_png(output_file_path=\"graph.png\")\n",
    "\n",
    "# Thread-aware config: persist messages per user/thread for memory\n",
    "thread_config = {\n",
    "    \"configurable\": {\n",
    "        \"thread_id\": os.getenv(\"THREAD_ID\", \"demo-thread\"),\n",
    "        \"user_id\": os.getenv(\"USER_ID\", \"demo-user\"),\n",
    "    }\n",
    "}\n",
    "\n",
    "# Build request from prompt template (flexible by location)\n",
    "request = build_restaurant_prompt(location=\"Shinjuku, Tokyo, Japan\")"
   ]
  },
  {
   "cell_type": "code",
   "execution_count": 2,
   "id": "d4fa3d98",
   "metadata": {},
   "outputs": [
    {
     "name": "stdout",
     "output_type": "stream",
     "text": [
      "=== Streaming Agent Output ===\n"
     ]
    },
    {
     "name": "stderr",
     "output_type": "stream",
     "text": [
      "INFO:httpx:HTTP Request: POST https://api.openai.com/v1/chat/completions \"HTTP/1.1 200 OK\"\n",
      "INFO:tool:GOOGLE_MAPS_API_KEY is set\n",
      "INFO:tool:session is set\n",
      "INFO:tool:Results are set\n",
      "INFO:httpx:HTTP Request: POST https://api.openai.com/v1/chat/completions \"HTTP/1.1 200 OK\"\n"
     ]
    },
    {
     "name": "stdout",
     "output_type": "stream",
     "text": [
      "\n",
      "=== Final Inner State Snapshot ===\n",
      "{'agent': {'messages': [AIMessage(content='Here are the top restaurants around Shinjuku, Tokyo, Japan, specializing in Japanese cuisine:\\n\\n1. **Wagyu Halal Japanese Food**\\n   - **Rating:** 4.8\\n   - **Reviews Count:** 965\\n   - **Price Range:** Not specified\\n   - **Types:** Restaurant, Food, Point of Interest, Establishment\\n   - **Photo Reference:** AciIO2fncxTOhhHYm-u0Y2K4_1rgYOxMwEzy9uxH2uvdb53flJlNfa00rVKC7SDIb1guC4TOMrWiNwchlh0owfHZIE2tXf4csLLEqWzOYCGmF0UBh6wfJgGtjG0W3Z2QigYCLprtVSVzoXnfsw1EnR_FlK1RuKBxNhdaKp9Fmd8lgKtkm28ZUYijVkpyj6ph6Z21LRruOYsvPrecbZGiINl1fXFTfWBoF_8R003mhm132y3yMMNmnJGstefn7I3porW4wfYo_ssfnZrw_e8W1zelA8PDGkfEgtRRl_Q2Yw4vT91YS4RIM5PlqMhigfz-Tik04ahrxBpWktno_X9t_Q-x3HdoBdMJJmn7z9wpxxBhPQitc0pBvPHBbDUNh9wjCpRROlh5SCZX2R5GKoWmUDD2aflDsG2OXxVC2Vr76To2zS4KRmEsdWDay0Y0sD1B36AWTCxAzg0Iz1Jm6g8w2L3sPN85R4X32ILm3C1n6qZ-le3ao-AhMEIuHiyThunnk1sNmqhOne37T7Vu3goLkThPivInlhyJlIXXID8LN4lqUVz_IcOLc8dvHkqh3Mk9DczABJLdDTiQ4X1qxB0ZFrk2AfMxdRHpGg\\n   - **Place URL:** [Wagyu Halal Japanese Food](https://maps.google.com/?cid=8415061637662681599)\\n   - **Why Special:** Offers halal wagyu dishes, highly rated for quality and taste.\\n\\n2. **Gyukatsu Motomura Harajuku**\\n   - **Rating:** 4.8\\n   - **Reviews Count:** 4830\\n   - **Price Range:** ¥¥ (Approx. $20-$40)\\n   - **Types:** Restaurant, Food, Point of Interest, Establishment\\n   - **Photo Reference:** AciIO2eO1S_J0Eb4bus7VkUs7qzxM6B0YnKW6tCvefkf3ijQBtiWHdWN4xXHaqXFSeJb_mTPIU2BY14GaQ-1M8vrRLyh_HfWZ5wkITnQJx92w2s3xdgdH5futwRsbfiOt9LTvki1NmLjjdWj0pAVR3INieNPo2bsqozK7KiBinCKDzcHvBAgJP_wSZG9fLrVNhZG0HkYXXu98vLbdvO9yxFMYBgftEGLKIoC5-vy846-8ljgu5wYuZHLcSV13ql63QXgD6IQ4E1PRfZ-39qJG9AbDQuRAjaUorUa9cIRKmGhuQQtpn5zw9k\\n   - **Place URL:** [Gyukatsu Motomura Harajuku](https://www.google.com/maps/search/?api=1&query_place_id=ChIJK7NEQ6OMGGAROeZ_ndIeQrE)\\n   - **Why Special:** Specializes in gyukatsu (breaded and fried beef cutlet), known for its unique preparation and flavor.\\n\\n3. **Japanese cuisine Nabeshiro**\\n   - **Rating:** 4.6\\n   - **Reviews Count:** 42\\n   - **Price Range:** Not specified\\n   - **Types:** Restaurant, Food, Point of Interest, Establishment\\n   - **Photo Reference:** AciIO2fjHZvoA8NVadA029dheLfl4fLgSM9y2whfqKGg4j0FqDxVCoFJKyuVNky1SqHRM7x9inBrNhIm4aSP6e6qRAhLL1w6PE5YqHSALqrsRR_hhLkuI4xyCOnu-mlNJ6IGUVPVD-cr7kwH0bUBmCwMGWLAoWeH3sJuichzwAFND7rJBDkxs1hQpSqwowy4Fxx4bMSTUCWVkQlgDFLzhjl4RTAh9z0o0KVkvdFjr95g-CEgu9HUGmRu7QvtVh5IV4GqhQ83aDAi69MaZNTix_hCWhZLw5pU4U7-zPqNuHKLg9GVF89rG4I\\n   - **Place URL:** [Japanese cuisine Nabeshiro](https://maps.google.com/?cid=8337872097649421470)\\n   - **Why Special:** Focuses on traditional Japanese dishes, providing an authentic dining experience.\\n\\n4. **Momo Paradise Shinjuku Higashi-guchi**\\n   - **Rating:** 4.9\\n   - **Reviews Count:** 8031\\n   - **Price Range:** ¥¥ (Approx. $20-$40)\\n   - **Types:** Restaurant, Food, Point of Interest, Establishment\\n   - **Photo Reference:** AciIO2fOVF5RDN6JjejV305lxKphV81jMEcZiidaRj6p5vzMIR-_nLoM8T2udLEg4pthvUumfUMNmaCebSTpaoLrR2WdHlTAzO6IRFBbzh4QN2_zjdpqksTLDIt8rj1EwrKlMHFdQFe_XefMhatfSDbFVy10O9wJ7U75NqbPIMc7zRUXF9Yg2vry8ii-g_PMvh5qzaPG-XQj5yLXmYSWEP_jiHgDlbPk8MyxihdJlmBrDi7rUX68RAL5Dh-egZUrXM-4IPR6YUVLIndBCaFC-yBiwaeyKj1TycaFV0JN5eKVrJQl8mCgsjU\\n   - **Place URL:** [Momo Paradise Shinjuku Higashi-guchi](https://www.google.com/maps/search/?api=1&query_place_id=ChIJvUEnaNqMGGAR46u74Waa6FM)\\n   - **Why Special:** Known for its all-you-can-eat shabu-shabu and sukiyaki, offering a unique dining experience.\\n\\n5. **Barubora-ya**\\n   - **Rating:** 4.5\\n   - **Reviews Count:** 97\\n   - **Price Range:** Not specified\\n   - **Types:** Restaurant, Food, Point of Interest, Establishment\\n   - **Photo Reference:** AciIO2faNAlIT2wB-BfxIWUIg0kezjwF8y5HjYdp0nm7eBgwXiMTl1PIwH9Wljt6sMoo5OXwwYyQAr61S657KyUGuhwFh0dciRKHg6fPoqpHPLUYrPwngK_8Cu4VidYluOmufT9ZPbJ5whA1J_CyFuh48hR0LsM5m8kIXyrvzWpR80LR6BSOegmBYgsy66KKSw-Y77IgygmrYdzJjAFKgb0XnxH1zqtaP4imq6oW64uyJjAnZ_RWxwQyS9wMmaTyKUqeUOT5Rr2B9PdwVAgtDwM67Vd25jWszxSaPYH1bEH9mnULeSq-GjCBneCInS2Fa1eMMbpO4Ld9kAowVrCf4Qie8ELrbTnSOP5Vr46oh-6pzoaEmRvoapuG35rg2olsHlyl1KdRxt8TylHOgR34BCJs8VSvr7UmEkPe7pbWptgXSmh8hy0IMbTfEYuGEYF7aJW7o__G-d0Rx_nq5x7Bv_tOBBV1Al2sOS166aahr3jl0TjoY0ssZIgZBSUWnLq4nf91X3KYRFSNvTFiQ4NObyyv-dz8Oo1lMW04I_CWZyLYJdk_6Wf3rGoEInG006u4f6kumkQrpkigFwIM4w\\n   - **Place URL:** [Barubora-ya](https://maps.google.com/?cid=10977365179307531326)\\n   - **Why Special:** Offers a cozy atmosphere with a focus on traditional Japanese dishes.\\n\\nThese restaurants provide a great variety of Japanese cuisine, ensuring a delightful dining experience in Shinjuku!', additional_kwargs={'refusal': None}, response_metadata={'token_usage': {'completion_tokens': 2129, 'prompt_tokens': 8639, 'total_tokens': 10768, 'completion_tokens_details': {'accepted_prediction_tokens': 0, 'audio_tokens': 0, 'reasoning_tokens': 0, 'rejected_prediction_tokens': 0}, 'prompt_tokens_details': {'audio_tokens': 0, 'cached_tokens': 0}}, 'model_name': 'gpt-4o-mini-2024-07-18', 'system_fingerprint': 'fp_51db84afab', 'id': 'chatcmpl-CQwrlJtPRljvXgdOVeyYpwwueKSzi', 'service_tier': 'default', 'finish_reason': 'stop', 'logprobs': None}, id='run--b1ef6f41-d8e7-43b7-b0a7-b10b847e6882-0', usage_metadata={'input_tokens': 8639, 'output_tokens': 2129, 'total_tokens': 10768, 'input_token_details': {'audio': 0, 'cache_read': 0}, 'output_token_details': {'audio': 0, 'reasoning': 0}})]}}\n"
     ]
    }
   ],
   "source": [
    "# Stream with cleaner output while capturing inner state\n",
    "print(\"=== Streaming Agent Output ===\")\n",
    "final_state = None\n",
    "for event in graph.stream(request, config=thread_config):\n",
    "    if \"model\" in event:\n",
    "        msg = event[\"model\"][\"messages\"]\n",
    "        try:\n",
    "            content = getattr(msg, \"content\", None) or str(msg)\n",
    "        except Exception:\n",
    "            content = str(msg)\n",
    "        if content:\n",
    "            print(content)\n",
    "    final_state = event\n",
    "\n",
    "print(\"\\n=== Final Inner State Snapshot ===\")\n",
    "print(final_state)"
   ]
  },
  {
   "cell_type": "code",
   "execution_count": 3,
   "id": "78624630",
   "metadata": {},
   "outputs": [
    {
     "name": "stdout",
     "output_type": "stream",
     "text": [
      "Here are the top restaurants around Shinjuku, Tokyo, Japan, specializing in Japanese cuisine:\n",
      "\n",
      "1. **Wagyu Halal Japanese Food**\n",
      "   - **Rating:** 4.8\n",
      "   - **Reviews Count:** 965\n",
      "   - **Price Range:** Not specified\n",
      "   - **Types:** Restaurant, Food, Point of Interest, Establishment\n",
      "   - **Photo Reference:** AciIO2fncxTOhhHYm-u0Y2K4_1rgYOxMwEzy9uxH2uvdb53flJlNfa00rVKC7SDIb1guC4TOMrWiNwchlh0owfHZIE2tXf4csLLEqWzOYCGmF0UBh6wfJgGtjG0W3Z2QigYCLprtVSVzoXnfsw1EnR_FlK1RuKBxNhdaKp9Fmd8lgKtkm28ZUYijVkpyj6ph6Z21LRruOYsvPrecbZGiINl1fXFTfWBoF_8R003mhm132y3yMMNmnJGstefn7I3porW4wfYo_ssfnZrw_e8W1zelA8PDGkfEgtRRl_Q2Yw4vT91YS4RIM5PlqMhigfz-Tik04ahrxBpWktno_X9t_Q-x3HdoBdMJJmn7z9wpxxBhPQitc0pBvPHBbDUNh9wjCpRROlh5SCZX2R5GKoWmUDD2aflDsG2OXxVC2Vr76To2zS4KRmEsdWDay0Y0sD1B36AWTCxAzg0Iz1Jm6g8w2L3sPN85R4X32ILm3C1n6qZ-le3ao-AhMEIuHiyThunnk1sNmqhOne37T7Vu3goLkThPivInlhyJlIXXID8LN4lqUVz_IcOLc8dvHkqh3Mk9DczABJLdDTiQ4X1qxB0ZFrk2AfMxdRHpGg\n",
      "   - **Place URL:** [Wagyu Halal Japanese Food](https://maps.google.com/?cid=8415061637662681599)\n",
      "   - **Why Special:** Offers halal wagyu dishes, highly rated for quality and taste.\n",
      "\n",
      "2. **Gyukatsu Motomura Harajuku**\n",
      "   - **Rating:** 4.8\n",
      "   - **Reviews Count:** 4830\n",
      "   - **Price Range:** ¥¥ (Approx. $20-$40)\n",
      "   - **Types:** Restaurant, Food, Point of Interest, Establishment\n",
      "   - **Photo Reference:** AciIO2eO1S_J0Eb4bus7VkUs7qzxM6B0YnKW6tCvefkf3ijQBtiWHdWN4xXHaqXFSeJb_mTPIU2BY14GaQ-1M8vrRLyh_HfWZ5wkITnQJx92w2s3xdgdH5futwRsbfiOt9LTvki1NmLjjdWj0pAVR3INieNPo2bsqozK7KiBinCKDzcHvBAgJP_wSZG9fLrVNhZG0HkYXXu98vLbdvO9yxFMYBgftEGLKIoC5-vy846-8ljgu5wYuZHLcSV13ql63QXgD6IQ4E1PRfZ-39qJG9AbDQuRAjaUorUa9cIRKmGhuQQtpn5zw9k\n",
      "   - **Place URL:** [Gyukatsu Motomura Harajuku](https://www.google.com/maps/search/?api=1&query_place_id=ChIJK7NEQ6OMGGAROeZ_ndIeQrE)\n",
      "   - **Why Special:** Specializes in gyukatsu (breaded and fried beef cutlet), known for its unique preparation and flavor.\n",
      "\n",
      "3. **Japanese cuisine Nabeshiro**\n",
      "   - **Rating:** 4.6\n",
      "   - **Reviews Count:** 42\n",
      "   - **Price Range:** Not specified\n",
      "   - **Types:** Restaurant, Food, Point of Interest, Establishment\n",
      "   - **Photo Reference:** AciIO2fjHZvoA8NVadA029dheLfl4fLgSM9y2whfqKGg4j0FqDxVCoFJKyuVNky1SqHRM7x9inBrNhIm4aSP6e6qRAhLL1w6PE5YqHSALqrsRR_hhLkuI4xyCOnu-mlNJ6IGUVPVD-cr7kwH0bUBmCwMGWLAoWeH3sJuichzwAFND7rJBDkxs1hQpSqwowy4Fxx4bMSTUCWVkQlgDFLzhjl4RTAh9z0o0KVkvdFjr95g-CEgu9HUGmRu7QvtVh5IV4GqhQ83aDAi69MaZNTix_hCWhZLw5pU4U7-zPqNuHKLg9GVF89rG4I\n",
      "   - **Place URL:** [Japanese cuisine Nabeshiro](https://maps.google.com/?cid=8337872097649421470)\n",
      "   - **Why Special:** Focuses on traditional Japanese dishes, providing an authentic dining experience.\n",
      "\n",
      "4. **Momo Paradise Shinjuku Higashi-guchi**\n",
      "   - **Rating:** 4.9\n",
      "   - **Reviews Count:** 8031\n",
      "   - **Price Range:** ¥¥ (Approx. $20-$40)\n",
      "   - **Types:** Restaurant, Food, Point of Interest, Establishment\n",
      "   - **Photo Reference:** AciIO2fOVF5RDN6JjejV305lxKphV81jMEcZiidaRj6p5vzMIR-_nLoM8T2udLEg4pthvUumfUMNmaCebSTpaoLrR2WdHlTAzO6IRFBbzh4QN2_zjdpqksTLDIt8rj1EwrKlMHFdQFe_XefMhatfSDbFVy10O9wJ7U75NqbPIMc7zRUXF9Yg2vry8ii-g_PMvh5qzaPG-XQj5yLXmYSWEP_jiHgDlbPk8MyxihdJlmBrDi7rUX68RAL5Dh-egZUrXM-4IPR6YUVLIndBCaFC-yBiwaeyKj1TycaFV0JN5eKVrJQl8mCgsjU\n",
      "   - **Place URL:** [Momo Paradise Shinjuku Higashi-guchi](https://www.google.com/maps/search/?api=1&query_place_id=ChIJvUEnaNqMGGAR46u74Waa6FM)\n",
      "   - **Why Special:** Known for its all-you-can-eat shabu-shabu and sukiyaki, offering a unique dining experience.\n",
      "\n",
      "5. **Barubora-ya**\n",
      "   - **Rating:** 4.5\n",
      "   - **Reviews Count:** 97\n",
      "   - **Price Range:** Not specified\n",
      "   - **Types:** Restaurant, Food, Point of Interest, Establishment\n",
      "   - **Photo Reference:** AciIO2faNAlIT2wB-BfxIWUIg0kezjwF8y5HjYdp0nm7eBgwXiMTl1PIwH9Wljt6sMoo5OXwwYyQAr61S657KyUGuhwFh0dciRKHg6fPoqpHPLUYrPwngK_8Cu4VidYluOmufT9ZPbJ5whA1J_CyFuh48hR0LsM5m8kIXyrvzWpR80LR6BSOegmBYgsy66KKSw-Y77IgygmrYdzJjAFKgb0XnxH1zqtaP4imq6oW64uyJjAnZ_RWxwQyS9wMmaTyKUqeUOT5Rr2B9PdwVAgtDwM67Vd25jWszxSaPYH1bEH9mnULeSq-GjCBneCInS2Fa1eMMbpO4Ld9kAowVrCf4Qie8ELrbTnSOP5Vr46oh-6pzoaEmRvoapuG35rg2olsHlyl1KdRxt8TylHOgR34BCJs8VSvr7UmEkPe7pbWptgXSmh8hy0IMbTfEYuGEYF7aJW7o__G-d0Rx_nq5x7Bv_tOBBV1Al2sOS166aahr3jl0TjoY0ssZIgZBSUWnLq4nf91X3KYRFSNvTFiQ4NObyyv-dz8Oo1lMW04I_CWZyLYJdk_6Wf3rGoEInG006u4f6kumkQrpkigFwIM4w\n",
      "   - **Place URL:** [Barubora-ya](https://maps.google.com/?cid=10977365179307531326)\n",
      "   - **Why Special:** Offers a cozy atmosphere with a focus on traditional Japanese dishes.\n",
      "\n",
      "These restaurants provide a great variety of Japanese cuisine, ensuring a delightful dining experience in Shinjuku!\n"
     ]
    }
   ],
   "source": [
    "print(final_state[\"agent\"][\"messages\"][0].content)"
   ]
  },
  {
   "cell_type": "code",
   "execution_count": 4,
   "id": "73c41844",
   "metadata": {},
   "outputs": [],
   "source": [
    "# import importlib\n",
    "# from dotenv import load_dotenv\n",
    "\n",
    "# load_dotenv()  # This loads the .env file\n",
    "\n",
    "\n",
    "# import tool \n",
    "\n",
    "# importlib.reload(tool)\n",
    "\n",
    "# from tool import google_maps_places\n",
    "\n",
    "# google_maps_places({\n",
    "#     \"query\": \"sushi\",\n",
    "#     \"location\": \"Shinjuku, Tokyo, Japan\",\n",
    "#     \"radius_meters\": 2000,\n",
    "# })\n"
   ]
  },
  {
   "cell_type": "code",
   "execution_count": null,
   "id": "c7b984f6",
   "metadata": {},
   "outputs": [],
   "source": []
  }
 ],
 "metadata": {
  "kernelspec": {
   "display_name": ".venv",
   "language": "python",
   "name": "python3"
  },
  "language_info": {
   "codemirror_mode": {
    "name": "ipython",
    "version": 3
   },
   "file_extension": ".py",
   "mimetype": "text/x-python",
   "name": "python",
   "nbconvert_exporter": "python",
   "pygments_lexer": "ipython3",
   "version": "3.12.11"
  }
 },
 "nbformat": 4,
 "nbformat_minor": 5
}
