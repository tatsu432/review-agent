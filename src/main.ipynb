{
 "cells": [
  {
   "cell_type": "code",
   "execution_count": 9,
   "id": "b8cd3bef",
   "metadata": {},
   "outputs": [
    {
     "name": "stderr",
     "output_type": "stream",
     "text": [
      "INFO:agent:Creating agent\n",
      "INFO:agent:Memory created\n",
      "INFO:agent:Graph created\n"
     ]
    }
   ],
   "source": [
    "from dotenv import load_dotenv\n",
    "\n",
    "load_dotenv()  # This loads the .env file\n",
    "\n",
    "import os\n",
    "\n",
    "from agent import create_agent\n",
    "from prompt import build_restaurant_prompt\n",
    "\n",
    "\n",
    "graph = create_agent()\n",
    "\n",
    "graph.get_graph().draw_mermaid_png(output_file_path=\"graph.png\")\n",
    "\n",
    "# Thread-aware config: persist messages per user/thread for memory\n",
    "thread_config = {\n",
    "    \"configurable\": {\n",
    "        \"thread_id\": os.getenv(\"THREAD_ID\", \"demo-thread\"),\n",
    "        \"user_id\": os.getenv(\"USER_ID\", \"demo-user\"),\n",
    "    }\n",
    "}\n",
    "\n",
    "# Build request from prompt template (flexible by location)\n",
    "request = build_restaurant_prompt(location=\"Shinjuku, Tokyo, Japan\", top_n=5)"
   ]
  },
  {
   "cell_type": "code",
   "execution_count": 10,
   "id": "d4fa3d98",
   "metadata": {},
   "outputs": [
    {
     "name": "stdout",
     "output_type": "stream",
     "text": [
      "=== Streaming Agent Output ===\n"
     ]
    },
    {
     "name": "stderr",
     "output_type": "stream",
     "text": [
      "INFO:httpx:HTTP Request: POST https://api.openai.com/v1/chat/completions \"HTTP/1.1 200 OK\"\n",
      "INFO:httpx:HTTP Request: POST https://api.openai.com/v1/chat/completions \"HTTP/1.1 200 OK\"\n",
      "INFO:httpx:HTTP Request: POST https://api.openai.com/v1/chat/completions \"HTTP/1.1 200 OK\"\n"
     ]
    },
    {
     "name": "stdout",
     "output_type": "stream",
     "text": [
      "\n",
      "=== Final Inner State Snapshot ===\n",
      "{'agent': {'messages': [AIMessage(content=\"Here are the top 5 restaurants around Shinjuku, Tokyo, showcasing a variety of cuisines and price ranges:\\n\\n1. **Ichunjipu Shinokubo Korean Restaurant**\\n   - **Cuisine:** Korean\\n   - **Price:** $$ (Moderate)\\n   - **Why it's special:** Highly rated for its authentic Korean dishes and vibrant atmosphere.\\n   - [View on Google Maps](https://www.google.com/maps/place/?q=place_id:ChIJlfWxscONGGARpqUGevsCnVo)\\n\\n2. **Teppan Baby**\\n   - **Cuisine:** Japanese (Teppanyaki)\\n   - **Price:** $$ (Moderate)\\n   - **Why it's special:** Known for its interactive dining experience with fresh ingredients cooked right in front of you.\\n   - [View on Google Maps](https://www.google.com/maps/place/?q=place_id:ChIJLZrOfdeMGGARdcjAP55yY00)\\n\\n3. **Fukumimi Shinjuku**\\n   - **Cuisine:** Japanese\\n   - **Price:** $$ (Moderate)\\n   - **Why it's special:** Offers a cozy atmosphere with a focus on seasonal ingredients and traditional flavors.\\n   - [View on Google Maps](https://www.google.com/maps/place/?q=place_id:ChIJVS2OnNyMGGARpgpxtssiR4o)\\n\\n4. **Robatasho**\\n   - **Cuisine:** Japanese (Robata Grill)\\n   - **Price:** $$ (Moderate)\\n   - **Why it's special:** Features a unique robata grill experience, where food is cooked over an open flame, enhancing the flavors.\\n   - [View on Google Maps](https://www.google.com/maps/place/?q=place_id:ChIJN6ZXXtaMGGARhb_R2Skf1os)\\n\\n5. **ICHIRAN Shinjuku Station Central East Exit**\\n   - **Cuisine:** Ramen\\n   - **Price:** $$ (Moderate)\\n   - **Why it's special:** Famous for its tonkotsu ramen and unique dining experience with individual booths for privacy.\\n   - [View on Google Maps](https://www.google.com/maps/place/?q=place_id:ChIJ8QwFX9qMGGARVm0p0caIeTk)\\n\\nThese selections provide a diverse culinary experience in Shinjuku, catering to different tastes and budgets. Enjoy your meal!\", additional_kwargs={'refusal': None}, response_metadata={'token_usage': {'completion_tokens': 495, 'prompt_tokens': 15958, 'total_tokens': 16453, 'completion_tokens_details': {'accepted_prediction_tokens': 0, 'audio_tokens': 0, 'reasoning_tokens': 0, 'rejected_prediction_tokens': 0}, 'prompt_tokens_details': {'audio_tokens': 0, 'cached_tokens': 9984}}, 'model_name': 'gpt-4o-mini-2024-07-18', 'system_fingerprint': 'fp_560af6e559', 'id': 'chatcmpl-CQvb2hJckT4jkfX7GMuantTkkPFUE', 'service_tier': 'default', 'finish_reason': 'stop', 'logprobs': None}, id='run--ceeea017-1f25-45e1-b53b-63056473edfe-0', usage_metadata={'input_tokens': 15958, 'output_tokens': 495, 'total_tokens': 16453, 'input_token_details': {'audio': 0, 'cache_read': 9984}, 'output_token_details': {'audio': 0, 'reasoning': 0}})]}}\n"
     ]
    }
   ],
   "source": [
    "# Stream with cleaner output while capturing inner state\n",
    "print(\"=== Streaming Agent Output ===\")\n",
    "final_state = None\n",
    "for event in graph.stream(request, config=thread_config):\n",
    "    if \"model\" in event:\n",
    "        msg = event[\"model\"][\"messages\"]\n",
    "        try:\n",
    "            content = getattr(msg, \"content\", None) or str(msg)\n",
    "        except Exception:\n",
    "            content = str(msg)\n",
    "        if content:\n",
    "            print(content)\n",
    "    final_state = event\n",
    "\n",
    "print(\"\\n=== Final Inner State Snapshot ===\")\n",
    "print(final_state)"
   ]
  },
  {
   "cell_type": "code",
   "execution_count": 11,
   "id": "78624630",
   "metadata": {},
   "outputs": [
    {
     "name": "stdout",
     "output_type": "stream",
     "text": [
      "Here are the top 5 restaurants around Shinjuku, Tokyo, showcasing a variety of cuisines and price ranges:\n",
      "\n",
      "1. **Ichunjipu Shinokubo Korean Restaurant**\n",
      "   - **Cuisine:** Korean\n",
      "   - **Price:** $$ (Moderate)\n",
      "   - **Why it's special:** Highly rated for its authentic Korean dishes and vibrant atmosphere.\n",
      "   - [View on Google Maps](https://www.google.com/maps/place/?q=place_id:ChIJlfWxscONGGARpqUGevsCnVo)\n",
      "\n",
      "2. **Teppan Baby**\n",
      "   - **Cuisine:** Japanese (Teppanyaki)\n",
      "   - **Price:** $$ (Moderate)\n",
      "   - **Why it's special:** Known for its interactive dining experience with fresh ingredients cooked right in front of you.\n",
      "   - [View on Google Maps](https://www.google.com/maps/place/?q=place_id:ChIJLZrOfdeMGGARdcjAP55yY00)\n",
      "\n",
      "3. **Fukumimi Shinjuku**\n",
      "   - **Cuisine:** Japanese\n",
      "   - **Price:** $$ (Moderate)\n",
      "   - **Why it's special:** Offers a cozy atmosphere with a focus on seasonal ingredients and traditional flavors.\n",
      "   - [View on Google Maps](https://www.google.com/maps/place/?q=place_id:ChIJVS2OnNyMGGARpgpxtssiR4o)\n",
      "\n",
      "4. **Robatasho**\n",
      "   - **Cuisine:** Japanese (Robata Grill)\n",
      "   - **Price:** $$ (Moderate)\n",
      "   - **Why it's special:** Features a unique robata grill experience, where food is cooked over an open flame, enhancing the flavors.\n",
      "   - [View on Google Maps](https://www.google.com/maps/place/?q=place_id:ChIJN6ZXXtaMGGARhb_R2Skf1os)\n",
      "\n",
      "5. **ICHIRAN Shinjuku Station Central East Exit**\n",
      "   - **Cuisine:** Ramen\n",
      "   - **Price:** $$ (Moderate)\n",
      "   - **Why it's special:** Famous for its tonkotsu ramen and unique dining experience with individual booths for privacy.\n",
      "   - [View on Google Maps](https://www.google.com/maps/place/?q=place_id:ChIJ8QwFX9qMGGARVm0p0caIeTk)\n",
      "\n",
      "These selections provide a diverse culinary experience in Shinjuku, catering to different tastes and budgets. Enjoy your meal!\n"
     ]
    }
   ],
   "source": [
    "print(final_state[\"agent\"][\"messages\"][0].content)"
   ]
  },
  {
   "cell_type": "code",
   "execution_count": 12,
   "id": "6aef55fc",
   "metadata": {},
   "outputs": [],
   "source": [
    "# import importlib\n",
    "# from dotenv import load_dotenv\n",
    "\n",
    "# load_dotenv()  # This loads the .env file\n",
    "\n",
    "# import tool\n",
    "\n",
    "# importlib.reload(tool)\n",
    "\n",
    "# from tool import google_maps_places\n",
    "\n",
    "# google_maps_places.invoke(\n",
    "#     {\n",
    "#         \"query\": \"sushi\",\n",
    "#         \"location\": \"Shinjuku, Tokyo, Japan\",\n",
    "#     }\n",
    "# )"
   ]
  }
 ],
 "metadata": {
  "kernelspec": {
   "display_name": ".venv",
   "language": "python",
   "name": "python3"
  },
  "language_info": {
   "codemirror_mode": {
    "name": "ipython",
    "version": 3
   },
   "file_extension": ".py",
   "mimetype": "text/x-python",
   "name": "python",
   "nbconvert_exporter": "python",
   "pygments_lexer": "ipython3",
   "version": "3.12.11"
  }
 },
 "nbformat": 4,
 "nbformat_minor": 5
}
